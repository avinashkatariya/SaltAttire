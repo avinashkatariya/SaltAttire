{
 "cells": [
  {
   "cell_type": "code",
   "execution_count": 1,
   "metadata": {},
   "outputs": [],
   "source": [
    "from selenium import webdriver"
   ]
  },
  {
   "cell_type": "code",
   "execution_count": 2,
   "metadata": {},
   "outputs": [],
   "source": [
    "from bs4 import BeautifulSoup as bs"
   ]
  },
  {
   "cell_type": "code",
   "execution_count": 3,
   "metadata": {},
   "outputs": [],
   "source": [
    "driver = webdriver.Firefox()"
   ]
  },
  {
   "cell_type": "code",
   "execution_count": 4,
   "metadata": {},
   "outputs": [],
   "source": [
    "driver.get(\"https://saltattire.com/\")"
   ]
  },
  {
   "cell_type": "code",
   "execution_count": null,
   "metadata": {},
   "outputs": [],
   "source": []
  },
  {
   "cell_type": "code",
   "execution_count": 85,
   "metadata": {},
   "outputs": [],
   "source": [
    "nAi = driver.find_elements_by_class_name(\"new_arr_img\")"
   ]
  },
  {
   "cell_type": "code",
   "execution_count": 78,
   "metadata": {},
   "outputs": [],
   "source": [
    "img = nAi[0].find_element_by_tag_name('img').get_attribute(\"src\")"
   ]
  },
  {
   "cell_type": "code",
   "execution_count": 79,
   "metadata": {},
   "outputs": [
    {
     "data": {
      "text/plain": [
       "'https://saltattire.com/assets/Masks-CottonForChildren-PackFive/new.jpg'"
      ]
     },
     "execution_count": 79,
     "metadata": {},
     "output_type": "execute_result"
    }
   ],
   "source": [
    "img"
   ]
  },
  {
   "cell_type": "code",
   "execution_count": null,
   "metadata": {},
   "outputs": [],
   "source": [
    "\n",
    "New_Arivals = []"
   ]
  },
  {
   "cell_type": "code",
   "execution_count": 94,
   "metadata": {},
   "outputs": [
    {
     "name": "stdout",
     "output_type": "stream",
     "text": [
      "\n",
      " ************** \n",
      "\n",
      "https://saltattire.com/assets/Masks-CottonForChildren-PackFive/new.jpg\n",
      "\n",
      "\n",
      "\n",
      "\n",
      " ************** \n",
      "\n",
      "\n",
      " ************** \n",
      "\n",
      "https://saltattire.com/assets/Masks-CottonElasticatedEarLoops-PackFive/new.jpg\n",
      "\n",
      "\n",
      "\n",
      "\n",
      " ************** \n",
      "\n",
      "\n",
      " ************** \n",
      "\n",
      "https://saltattire.com/assets/Masks-CottonStripesChecks-PackFive/new.jpg\n",
      "\n",
      "\n",
      "\n",
      "\n",
      " ************** \n",
      "\n",
      "\n",
      " ************** \n",
      "\n",
      "https://saltattire.com/assets/Masks-CottonPastels-PackFive/new.jpg\n",
      "\n",
      "\n",
      "\n",
      "\n",
      " ************** \n",
      "\n",
      "\n",
      " ************** \n",
      "\n",
      "https://saltattire.com/assets/Dresses-Waffle-Dropshoulderdress/new.jpg\n",
      "\n",
      "\n",
      "\n",
      "\n",
      " ************** \n",
      "\n",
      "\n",
      " ************** \n",
      "\n",
      "https://saltattire.com/assets/Dresses-Cookie-Tuckdetailatthewaistbandsheathdress/new.jpg\n",
      "₹2,795\n",
      "Cookie\n",
      "Tuck detail at the waistband sheath dress\n",
      "\n",
      " ************** \n",
      "\n",
      "\n",
      " ************** \n",
      "\n",
      "https://saltattire.com/assets/Dresses-BlackSwan-Collarsheathdresswithbelt/new.jpg\n",
      "₹2,850\n",
      "Black Swan\n",
      "Collar sheath dress with belt\n",
      "\n",
      " ************** \n",
      "\n",
      "\n",
      " ************** \n",
      "\n",
      "https://saltattire.com/assets/Dresses-Bambi-V-Neckfrontbuttonopeningdetaildress/new.jpg\n",
      "₹2,850\n",
      "Bambi\n",
      "V-Neck front button opening detail dress\n",
      "\n",
      " ************** \n",
      "\n",
      "\n",
      " ************** \n",
      "\n",
      "https://saltattire.com/assets/Tops-Walnut-Flaresleevesv-necktop/new.jpg\n",
      "₹1,950\n",
      "Walnut\n",
      "Flare sleeves v-neck top\n",
      "\n",
      " ************** \n",
      "\n",
      "\n",
      " ************** \n",
      "\n",
      "https://saltattire.com/assets/Tops-Twinkle-Contrastpatchonneckandsleevestop/new.jpg\n",
      "₹1,950\n",
      "Twinkle\n",
      "Contrast patch on neck and sleeves top\n",
      "\n",
      " ************** \n",
      "\n",
      "\n",
      " ************** \n",
      "\n",
      "https://saltattire.com/assets/Tops-Honeycomb-Biasplacementsleevelesstop/new.jpg\n",
      "\n",
      "\n",
      "\n",
      "\n",
      " ************** \n",
      "\n",
      "\n",
      " ************** \n",
      "\n",
      "https://saltattire.com/assets/Shirts-DustyRose-Notchcollarshirt/new.jpg\n",
      "\n",
      "\n",
      "\n",
      "\n",
      " ************** \n",
      "\n",
      "\n",
      " ************** \n",
      "\n",
      "https://saltattire.com/assets/Shirts-Riddle-Raglansleeveshirt/new.jpg\n",
      "\n",
      "\n",
      "\n",
      "\n",
      " ************** \n",
      "\n",
      "\n",
      " ************** \n",
      "\n",
      "https://saltattire.com/assets/Tops-Sunflower-Scallopdetailtop/new.jpg\n",
      "\n",
      "\n",
      "\n",
      "\n",
      " ************** \n",
      "\n",
      "\n",
      " ************** \n",
      "\n",
      "https://saltattire.com/assets/Dresses-PeachNougat-Fauxwrapdress/new.jpg\n",
      "\n",
      "\n",
      "\n",
      "\n",
      " ************** \n",
      "\n",
      "\n",
      " ************** \n",
      "\n",
      "https://saltattire.com/assets/Tops-SpringPeach-Sweetheartnecklinetop/new.jpg\n",
      "\n",
      "\n",
      "\n",
      "\n",
      " ************** \n",
      "\n"
     ]
    }
   ],
   "source": [
    "\n",
    "\n",
    "for nai in nAi:\n",
    "    try:\n",
    "        print(\"\\n ************** \\n\")\n",
    "        print(nai.find_element_by_tag_name('img').get_attribute(\"src\"))\n",
    "        print(nai.find_element_by_tag_name('span').text)\n",
    "        print(nai.find_element_by_tag_name('h4').text)\n",
    "        print(nai.find_element_by_tag_name('p').text)\n",
    "        \n",
    "        \n",
    "        \n",
    "    except:\n",
    "        continue\n",
    "    \n",
    "    New_Arivals.append({\n",
    "            \"img_url\": nai.find_element_by_tag_name('img').get_attribute(\"src\"),\n",
    "            \"item_name\" : nai.find_element_by_tag_name('h4').text,\n",
    "            \"for\": nai.find_element_by_tag_name('p').text,\n",
    "            \"price\": nai.find_element_by_tag_name('span').text,\n",
    "            \n",
    "        })\n",
    "    "
   ]
  },
  {
   "cell_type": "code",
   "execution_count": 106,
   "metadata": {},
   "outputs": [
    {
     "name": "stdout",
     "output_type": "stream",
     "text": [
      "\n",
      "\n",
      "\n",
      "\n",
      "\n",
      "\n",
      "\n",
      "\n",
      "\n",
      "\n",
      "Bias placement sleeveless top\n",
      "Notch collar shirt\n",
      "Raglan sleeve shirt\n",
      "Scallop detail top\n",
      "Faux wrap dress\n",
      "\n",
      "\n",
      "\n",
      "\n",
      "\n",
      "\n",
      "\n",
      "\n",
      "\n",
      "\n",
      "\n",
      "\n",
      "Notch collar shirt\n",
      "Raglan sleeve shirt\n",
      "Scallop detail top\n",
      "Faux wrap dress\n",
      "Sweetheart neckline top\n",
      "For Children\n",
      "Elasticated Ear Loops\n",
      "Stripes & Checks\n",
      "Pastels\n",
      "Drop shoulder dress\n",
      "\n",
      "\n",
      "\n",
      "\n",
      "\n",
      "\n",
      "\n",
      "\n",
      "\n",
      "\n",
      "\n",
      "\n",
      "\n",
      "\n",
      "\n",
      "\n",
      "Tuck detail at the waistband sheath dress\n",
      "Collar sheath dress with belt\n",
      "V-Neck front button opening detail dress\n",
      "Flare sleeves v-neck top\n",
      "Contrast patch on neck and sleeves top\n",
      "\n",
      "\n",
      "\n",
      "\n",
      "\n",
      "\n"
     ]
    }
   ],
   "source": [
    "arrivals = []\n",
    "for ar in New_Arivals:\n",
    "    print(ar[\"for\"])\n",
    "    if ar[\"for\"] != \"\":\n",
    "        if ar not in arrivals:\n",
    "            arrivals.append(ar)"
   ]
  },
  {
   "cell_type": "code",
   "execution_count": 107,
   "metadata": {},
   "outputs": [
    {
     "name": "stdout",
     "output_type": "stream",
     "text": [
      "16\n"
     ]
    }
   ],
   "source": [
    "print(len(arrivals))"
   ]
  },
  {
   "cell_type": "code",
   "execution_count": 108,
   "metadata": {},
   "outputs": [
    {
     "name": "stdout",
     "output_type": "stream",
     "text": [
      "[{'img_url': 'https://saltattire.com/assets/Tops-Honeycomb-Biasplacementsleevelesstop/new.jpg', 'item_name': 'Honeycomb', 'for': 'Bias placement sleeveless top', 'price': '₹1,750'}, {'img_url': 'https://saltattire.com/assets/Shirts-DustyRose-Notchcollarshirt/new.jpg', 'item_name': 'Dusty Rose', 'for': 'Notch collar shirt', 'price': '₹2,150'}, {'img_url': 'https://saltattire.com/assets/Shirts-Riddle-Raglansleeveshirt/new.jpg', 'item_name': 'Riddle', 'for': 'Raglan sleeve shirt', 'price': '₹2,150'}, {'img_url': 'https://saltattire.com/assets/Tops-Sunflower-Scallopdetailtop/new.jpg', 'item_name': 'Sunflower', 'for': 'Scallop detail top', 'price': '₹1,750'}, {'img_url': 'https://saltattire.com/assets/Dresses-PeachNougat-Fauxwrapdress/new.jpg', 'item_name': 'Peach Nougat', 'for': 'Faux wrap dress', 'price': '₹2,895'}, {'img_url': 'https://saltattire.com/assets/Tops-SpringPeach-Sweetheartnecklinetop/new.jpg', 'item_name': 'Spring Peach', 'for': 'Sweetheart neckline top', 'price': '₹1,850'}, {'img_url': 'https://saltattire.com/assets/Masks-CottonForChildren-PackFive/new.jpg', 'item_name': 'COTTON MASKS - Pack of 5', 'for': 'For Children', 'price': '₹450'}, {'img_url': 'https://saltattire.com/assets/Masks-CottonElasticatedEarLoops-PackFive/new.jpg', 'item_name': 'COTTON MASKS - Pack of 5', 'for': 'Elasticated Ear Loops', 'price': '₹450'}, {'img_url': 'https://saltattire.com/assets/Masks-CottonStripesChecks-PackFive/new.jpg', 'item_name': 'COTTON MASKS - Pack of 5', 'for': 'Stripes & Checks', 'price': '₹450'}, {'img_url': 'https://saltattire.com/assets/Masks-CottonPastels-PackFive/new.jpg', 'item_name': 'COTTON MASKS - Pack of 5', 'for': 'Pastels', 'price': '₹450'}, {'img_url': 'https://saltattire.com/assets/Dresses-Waffle-Dropshoulderdress/new.jpg', 'item_name': 'Waffle', 'for': 'Drop shoulder dress', 'price': '₹2,650'}, {'img_url': 'https://saltattire.com/assets/Dresses-Cookie-Tuckdetailatthewaistbandsheathdress/new.jpg', 'item_name': 'Cookie', 'for': 'Tuck detail at the waistband sheath dress', 'price': '₹2,795'}, {'img_url': 'https://saltattire.com/assets/Dresses-BlackSwan-Collarsheathdresswithbelt/new.jpg', 'item_name': 'Black Swan', 'for': 'Collar sheath dress with belt', 'price': '₹2,850'}, {'img_url': 'https://saltattire.com/assets/Dresses-Bambi-V-Neckfrontbuttonopeningdetaildress/new.jpg', 'item_name': 'Bambi', 'for': 'V-Neck front button opening detail dress', 'price': '₹2,850'}, {'img_url': 'https://saltattire.com/assets/Tops-Walnut-Flaresleevesv-necktop/new.jpg', 'item_name': 'Walnut', 'for': 'Flare sleeves v-neck top', 'price': '₹1,950'}, {'img_url': 'https://saltattire.com/assets/Tops-Twinkle-Contrastpatchonneckandsleevestop/new.jpg', 'item_name': 'Twinkle', 'for': 'Contrast patch on neck and sleeves top', 'price': '₹1,950'}]\n"
     ]
    }
   ],
   "source": [
    "print(arrivals)"
   ]
  },
  {
   "cell_type": "code",
   "execution_count": 51,
   "metadata": {},
   "outputs": [],
   "source": [
    "MediaBuzz=[]\n"
   ]
  },
  {
   "cell_type": "code",
   "execution_count": 19,
   "metadata": {},
   "outputs": [
    {
     "data": {
      "text/plain": [
       "79"
      ]
     },
     "execution_count": 19,
     "metadata": {},
     "output_type": "execute_result"
    }
   ],
   "source": [
    "mBuzz = driver.find_elements_by_class_name(\"swiper-slide\")\n",
    "len(mBuzz)"
   ]
  },
  {
   "cell_type": "code",
   "execution_count": 35,
   "metadata": {},
   "outputs": [
    {
     "data": {
      "text/plain": [
       "'https://saltattire.com/assets/images/media/lbb/logo/lbb.png'"
      ]
     },
     "execution_count": 35,
     "metadata": {},
     "output_type": "execute_result"
    }
   ],
   "source": [
    "mBuzz[46].find_element_by_tag_name(\"p\").text#get_attribute(\"src\")"
   ]
  },
  {
   "cell_type": "code",
   "execution_count": 66,
   "metadata": {},
   "outputs": [],
   "source": [
    "for mb in mBuzz[45:47]:\n",
    "    MediaBuzz.append({\n",
    "        \"logo\" : mb.find_element_by_tag_name(\"img\").get_attribute(\"src\").replace(\"_bw\",\"\"),\n",
    "        \"buzz\" : mb.find_element_by_tag_name(\"p\").text\n",
    "    })"
   ]
  },
  {
   "cell_type": "code",
   "execution_count": 67,
   "metadata": {},
   "outputs": [],
   "source": [
    "for mb in MediaBuzz:\n",
    "    if mb[\"buzz\"] == \"\":\n",
    "        MediaBuzz.remove(mb)"
   ]
  },
  {
   "cell_type": "code",
   "execution_count": 68,
   "metadata": {},
   "outputs": [
    {
     "data": {
      "text/plain": [
       "[{'logo': 'https://saltattire.com/assets/images/media/the-economic-times/logo/economic_times.png',\n",
       "  'buzz': 'SALT offers tailored clothing to customer measurements'},\n",
       " {'logo': 'https://saltattire.com/assets/images/media/india-today/logo/india_today.png',\n",
       "  'buzz': 'Power dressing has changed'},\n",
       " {'logo': 'https://saltattire.com/assets/images/media/lbb/logo/lbb.png',\n",
       "  'buzz': 'Bored of your usual corporate looks?'},\n",
       " {'logo': 'https://saltattire.com/assets/images/media/news-18/logo/news_18.png',\n",
       "  'buzz': '...quick and easy way to take your work look from formal to exceptional.'},\n",
       " {'logo': 'https://saltattire.com/assets/images/media/yourstory/logo/yourstory.png',\n",
       "  'buzz': 'Salt, that ingredient so essential for balance'},\n",
       " {'logo': 'https://saltattire.com/assets/images/media/business-standard/logo/business_standard.png',\n",
       "  'buzz': 'Turn monotonous office wear into party ready look'},\n",
       " {'logo': 'https://saltattire.com/assets/images/media/bloomberg-quint/logo/bloomberg_quint.png',\n",
       "  'buzz': 'A ‘9AM-9PM’ Clothing Brand'},\n",
       " {'logo': 'https://saltattire.com/assets/images/media/the-new-india-express/logo/the_new_india_express.png',\n",
       "  'buzz': 'One-stop shop for all your clothing needs'},\n",
       " {'logo': 'https://saltattire.com/assets/images/media/vogue/logo/vogue.png',\n",
       "  'buzz': '...refreshing take on workwear'},\n",
       " {'logo': 'https://saltattire.com/assets/images/media/business-telegraph/logo/business_telegraph.png',\n",
       "  'buzz': 'SALT Attire has launched its first offline experience store'},\n",
       " {'logo': 'https://saltattire.com/assets/images/media/inside-retail-asia/logo/inside_retail_asia.png',\n",
       "  'buzz': 'Salt Attire offers bespoke clothing'},\n",
       " {'logo': 'https://saltattire.com/assets/images/media/fibre-2-fashion/logo/fibre_2_fashion.png',\n",
       "  'buzz': 'on-demand manufacturing allows the customer to get the best fit'},\n",
       " {'logo': 'https://saltattire.com/assets/images/media/start-up-success-stories/logo/start_up_success_stories.png',\n",
       "  'buzz': 'Variety of designs that are work appropriate'},\n",
       " {'logo': 'https://saltattire.com/assets/images/media/silicon-india/logo/silicon_india.png',\n",
       "  'buzz': 'Best Workwear for Women to Outshine your Co-workers'},\n",
       " {'logo': 'https://saltattire.com/assets/images/media/india-retailing/logo/india_retailing.png',\n",
       "  'buzz': 'Premium collections of workwear apparel'},\n",
       " {'logo': 'https://saltattire.com/assets/images/media/apparel-magazine/logo/apparel_magazine.png',\n",
       "  'buzz': 'Monsoon is a perfect season to wear bold and cheerful colours'},\n",
       " {'logo': 'https://saltattire.com/assets/images/media/fashion-network/logo/fashion_network.png',\n",
       "  'buzz': 'Salt Attire enters to offline market with its first physical store in Gurugram'},\n",
       " {'logo': 'https://saltattire.com/assets/images/media/retail-4-growth/logo/retail_4_growth.png',\n",
       "  'buzz': 'Popular for its ready-to-pick garments'},\n",
       " {'logo': 'https://saltattire.com/assets/images/media/india-retailing/logo/india_retailing.png',\n",
       "  'buzz': 'A trend which is especially seen in metro cities'},\n",
       " {'logo': 'https://saltattire.com/assets/images/media/lbb/logo/lbb.png',\n",
       "  'buzz': 'Up Your Style Game At Work From This Store In G-Town'}]"
      ]
     },
     "execution_count": 68,
     "metadata": {},
     "output_type": "execute_result"
    }
   ],
   "source": [
    "MediaBuzz"
   ]
  },
  {
   "cell_type": "code",
   "execution_count": 69,
   "metadata": {},
   "outputs": [],
   "source": [
    "Looks = []"
   ]
  },
  {
   "cell_type": "code",
   "execution_count": 94,
   "metadata": {},
   "outputs": [],
   "source": [
    "lks = driver.find_elements_by_class_name(\"template-view\")"
   ]
  },
  {
   "cell_type": "code",
   "execution_count": 95,
   "metadata": {},
   "outputs": [
    {
     "data": {
      "text/plain": [
       "422"
      ]
     },
     "execution_count": 95,
     "metadata": {},
     "output_type": "execute_result"
    }
   ],
   "source": [
    "len(lks)"
   ]
  },
  {
   "cell_type": "code",
   "execution_count": 103,
   "metadata": {},
   "outputs": [],
   "source": [
    "bcol = lks[5].find_element_by_class_name('template-wi-txt').get_attribute(\"style\").replace(\"background-color: rgb(\",\"\").replace(\"); color: rgb(255, 255, 255) !important;\",\"\")"
   ]
  },
  {
   "cell_type": "code",
   "execution_count": 104,
   "metadata": {},
   "outputs": [],
   "source": [
    "cc = bcol.split(\", \")"
   ]
  },
  {
   "cell_type": "code",
   "execution_count": 110,
   "metadata": {},
   "outputs": [
    {
     "name": "stdout",
     "output_type": "stream",
     "text": [
      "0xFF884808\n"
     ]
    }
   ],
   "source": [
    "hcc = \"0xFF\"\n",
    "for cc0 in cc:\n",
    "    d = str(hex(int(cc0))).replace(\"0x\",\"\")\n",
    "    d = \"0\"+d if len(d)==1 else d\n",
    "    hcc+=d\n",
    "print(hcc)"
   ]
  },
  {
   "cell_type": "code",
   "execution_count": 97,
   "metadata": {},
   "outputs": [
    {
     "data": {
      "text/plain": [
       "'https://saltattire.com/assets/look-423/Full.v1.jpg'"
      ]
     },
     "execution_count": 97,
     "metadata": {},
     "output_type": "execute_result"
    }
   ],
   "source": [
    "lks[5].find_element_by_tag_name('img').get_attribute(\"src\")"
   ]
  },
  {
   "cell_type": "code",
   "execution_count": 102,
   "metadata": {},
   "outputs": [
    {
     "data": {
      "text/plain": [
       "''"
      ]
     },
     "execution_count": 102,
     "metadata": {},
     "output_type": "execute_result"
    }
   ],
   "source": [
    "lks[0].find_element_by_class_name('template-wi-txt').find_element_by_tag_name(\"span\")"
   ]
  },
  {
   "cell_type": "code",
   "execution_count": 116,
   "metadata": {},
   "outputs": [
    {
     "name": "stdout",
     "output_type": "stream",
     "text": [
      "91, 67, 81\n"
     ]
    }
   ],
   "source": [
    "for lk in lks[8:9]:\n",
    "    bcolor = lk.find_element_by_class_name('template-wi-txt').get_attribute(\"style\").replace(\"background-color: rgb(\",\"\").replace(\"); color: rgb(255, 255, 255) !important;\",\"\")\n",
    "    print(bcolor)\n",
    "    cc = bcolor.split(\", \")\n",
    "    hcc = \"0xFF\"\n",
    "    for cc0 in cc:\n",
    "        d = str(hex(int(cc0))).replace(\"0x\",\"\")\n",
    "        d = \"0\"+d if len(d)==1 else d\n",
    "        hcc+=d\n",
    "    Looks.append({\n",
    "        \"img\":lk.find_element_by_tag_name('img').get_attribute(\"src\"),\n",
    "        \"background-color\": hcc,\n",
    "    })"
   ]
  },
  {
   "cell_type": "code",
   "execution_count": 117,
   "metadata": {},
   "outputs": [
    {
     "data": {
      "text/plain": [
       "[{'img': 'https://saltattire.com/assets/look-429/Full.v1.jpg',\n",
       "  'background-color': '0xFF0c172f'},\n",
       " {'img': 'https://saltattire.com/assets/look-427/Full.v1.jpg',\n",
       "  'background-color': '0xFF38255d'},\n",
       " {'img': 'https://saltattire.com/assets/look-426/Full.v1.jpg',\n",
       "  'background-color': '0xFF1f5f61'},\n",
       " {'img': 'https://saltattire.com/assets/look-425/Full.v1.jpg',\n",
       "  'background-color': '0xFF4d2323'},\n",
       " {'img': 'https://saltattire.com/assets/look-424/Full.v1.jpg',\n",
       "  'background-color': '0xFF3f3934'},\n",
       " {'img': 'https://saltattire.com/assets/look-423/Full.v1.jpg',\n",
       "  'background-color': '0xFF884808'},\n",
       " {'img': 'https://saltattire.com/assets/look-422/Full.v1.jpg',\n",
       "  'background-color': '0xFF583714'},\n",
       " {'img': 'https://saltattire.com/assets/look-421/Full.v1.jpg',\n",
       "  'background-color': '0xFF100d2d'},\n",
       " {'img': 'https://saltattire.com/assets/look-420/Full.v1.jpg',\n",
       "  'background-color': '0xFF5b4351'}]"
      ]
     },
     "execution_count": 117,
     "metadata": {},
     "output_type": "execute_result"
    }
   ],
   "source": [
    "Looks"
   ]
  },
  {
   "cell_type": "code",
   "execution_count": null,
   "metadata": {},
   "outputs": [],
   "source": [
    "[{\n",
    "    \"heading\":\"Dresses\",\n",
    "    \"img\":\"https://saltattire.com/assets/images/mob/home-category/dresses.jpg\",\n",
    "},\n",
    "{\n",
    "    \"heading\":\"Tops\",\n",
    "    \"img\":\"https://saltattire.com/assets/images/mob/home-category/tops.jpg\"\n",
    "},\n",
    "{\n",
    "    \"heading\":\"Shirts\",\n",
    "    \"img\":\"https://saltattire.com/assets/images/mob/home-category/shirts.jpg\"\n",
    "},{\n",
    "    \"heading\":\"Tunics\",\n",
    "    \"img\":\"https://saltattire.com/assets/images/mob/home-category/tunics.jpg\"\n",
    "},{\n",
    "    \"heading\":\"Tailored Pants\",\n",
    "    \"img\":\"https://saltattire.com/assets/images/mob/home-category/pants.jpg\"\n",
    "},{\n",
    "    \"heading\":\"Tailored Skirts\",\n",
    "    \"img\":\"https://saltattire.com/assets/images/mob/home-category/skirts.jpg\"\n",
    "},{\n",
    "    \"heading\":\"Jackets\",\n",
    "    \"img\":\"https://saltattire.com/assets/images/mob/home-category/outerwear.jpg\"\n",
    "},{\n",
    "    \"heading\":\"Jumpsuits\",\n",
    "    \"img\":\"https://saltattire.com/assets/images/mob/home-category/jumpsuits.jpg\"\n",
    "},{\n",
    "    \"heading\":\"Scarves\",\n",
    "    \"img\":\"https://saltattire.com/assets/images/mob/home-category/scarves.jpg\"\n",
    "},{\n",
    "    \"heading\":\"Belts\",\n",
    "    \"img\":\"https://saltattire.com/assets/images/mob/home-category/belts.jpg\"\n",
    "},\n",
    "    {\n",
    "    \"heading\":\"Jewellery\",\n",
    "    \"img\":\"https://saltattire.com/assets/images/mob/home-category/jewellery.jpg\"\n",
    "},{\n",
    "    \"heading\":\"Masks\",\n",
    "    \"img\":\"https://saltattire.com/assets/images/mob/home-category/masks.jpg\"\n",
    "},{\n",
    "    \"heading\":\"Giftcards\",\n",
    "    \"img\":\"https://saltattire.com/assets/images/mob/home-category/giftcards_v1.jpg\"\n",
    "},\n",
    "]"
   ]
  },
  {
   "cell_type": "code",
   "execution_count": null,
   "metadata": {},
   "outputs": [],
   "source": [
    "[\n",
    "    {\n",
    "        \"post\":\"I loved the quality of the fabric. The customer service is amazing. The top which I got looks amazing on me. Really very happy!!! :)\",\n",
    "        \"author\":\"Sarika Sinha\",\n",
    "        \"dateTime\":\"03/09/2019 09:10\",\n",
    "    },{\n",
    "        \"post\":\"Thank you Salt for finally providing dresses that I have been hunting for forever in the Indian market. Cool, polished, professional, and feminine - your dress fit me like a dream! Recommend the sheath dress Deep to anyone looking for the House of Cards Robin Wright look.\",\n",
    "        \"author\":\"Namita Anand\",\n",
    "        \"dateTime\":\"09/08/2018 18:38\",\n",
    "    }{\n",
    "        \"post\":\"Elegant designs,fine cut and fabric and over the top is their customer service.You guys have won a customer for life.Added bonanza is their custom made fits\",\n",
    "        \"author\":\"Susheela Panduri\",\n",
    "        \"dateTime\":\"13/07/2019 22:02\",\n",
    "    }{\n",
    "        \"post\":\"A friend of mine shared your Insta link last month so I got to know about it. I was not sure how the fitting would come out, at first. But I was so happy with the stitching. Its way better than the readymade dresses from well known brands like Allen Solly, AND, The label life. The dresses are reasonable and not over the top expensive like that of Fable Street.You have earned a lifelong customer. I will look nowhere except SALT attire.\",\n",
    "        \"author\":\"Soumya Suratkal\",\n",
    "        \"dateTime\":\"09/09/2019 09:28\",\n",
    "    }{\n",
    "        \"post\":\"I loved the quality of the fabric. The customer service is amazing. The top which I got looks amazing on me. Really very happy!!! :)\",\n",
    "        \"author\":\"Sarika Sinha\",\n",
    "        \"dateTime\":\"03/09/2019 09:10\",\n",
    "    }\n",
    "]"
   ]
  }
 ],
 "metadata": {
  "kernelspec": {
   "display_name": "Python 3",
   "language": "python",
   "name": "python3"
  },
  "language_info": {
   "codemirror_mode": {
    "name": "ipython",
    "version": 3
   },
   "file_extension": ".py",
   "mimetype": "text/x-python",
   "name": "python",
   "nbconvert_exporter": "python",
   "pygments_lexer": "ipython3",
   "version": "3.7.3"
  }
 },
 "nbformat": 4,
 "nbformat_minor": 4
}
